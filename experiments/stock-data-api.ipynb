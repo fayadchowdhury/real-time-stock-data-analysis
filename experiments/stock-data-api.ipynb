{
 "cells": [
  {
   "cell_type": "markdown",
   "id": "23a8f52b-9303-4633-9c16-67ab9fd0f24e",
   "metadata": {},
   "source": [
    "### Experiments with the AlphaVantage API"
   ]
  },
  {
   "cell_type": "code",
   "execution_count": 1,
   "id": "3a652012-230a-48b0-bc57-7866c7609beb",
   "metadata": {},
   "outputs": [],
   "source": [
    "from dotenv import load_dotenv\n",
    "import os\n",
    "import requests\n",
    "import pandas as pd\n",
    "from datetime import datetime, timedelta"
   ]
  },
  {
   "cell_type": "code",
   "execution_count": 2,
   "id": "e6810cbe-427c-4617-b538-8dd63054c37c",
   "metadata": {},
   "outputs": [
    {
     "data": {
      "text/plain": [
       "True"
      ]
     },
     "execution_count": 2,
     "metadata": {},
     "output_type": "execute_result"
    }
   ],
   "source": [
    "load_dotenv()"
   ]
  },
  {
   "cell_type": "code",
   "execution_count": 3,
   "id": "96f2e8f5-c3b6-4d82-ad76-720f570a580f",
   "metadata": {},
   "outputs": [],
   "source": [
    "ALPHA_VANTAGE_API_KEY = os.getenv(\"ALPHA_VANTAGE_API_KEY\")"
   ]
  },
  {
   "cell_type": "code",
   "execution_count": 4,
   "id": "aa5b0b29-aca6-432a-b984-a988935093b7",
   "metadata": {},
   "outputs": [],
   "source": [
    "# Crypto exchange rates could be a fun project (or an extension to this project) too!\n",
    "# # replace the \"demo\" apikey below with your own key from https://www.alphavantage.co/support/#api-key\n",
    "# url = f'https://www.alphavantage.co/query?function=CURRENCY_EXCHANGE_RATE&from_currency=BTC&to_currency=EUR&apikey={ALPHA_VANTAGE_API_KEY}'\n",
    "# r = requests.get(url)\n",
    "# data = r.json()\n",
    "\n",
    "# print(data)"
   ]
  },
  {
   "cell_type": "markdown",
   "id": "2985a355-a847-479d-b3b0-0406ca42f64e",
   "metadata": {},
   "source": [
    "### Fetch 100 ticker data points at a specified interval (in minutes; takes only 1, 5, 15, 30 and 60)"
   ]
  },
  {
   "cell_type": "code",
   "execution_count": 5,
   "id": "0693f17c-1756-4735-a27c-1ffe9035c236",
   "metadata": {},
   "outputs": [],
   "source": [
    "def fetch_ticker_data(symbol: str, interval: int, apiKey: str) -> pd.DataFrame:\n",
    "    base_url = f'https://www.alphavantage.co/query'\n",
    "    interval = str(interval) + \"min\"\n",
    "    params = {\n",
    "        \"function\": \"TIME_SERIES_INTRADAY\",\n",
    "        \"symbol\": symbol,\n",
    "        \"interval\": interval,\n",
    "        \"apikey\": apiKey,\n",
    "        \"outputsize\": \"compact\",\n",
    "    }\n",
    "    try:\n",
    "        response = requests.get(base_url, params=params)\n",
    "        data = response.json()[f\"Time Series ({interval})\"]\n",
    "        df = pd.DataFrame(data)\n",
    "        df = df.transpose()\n",
    "        df = df.reset_index().rename(columns={\"index\": \"timestamp\", \"1. open\": \"open\", \"2. high\": \"high\", \"3. low\": \"low\", \"4. close\": \"close\", \"5. volume\": \"volume\"})\n",
    "        df[\"timestamp\"] = pd.to_datetime(df[\"timestamp\"])\n",
    "        return df\n",
    "    except Exception as e:\n",
    "        print(e)\n",
    "        return None"
   ]
  },
  {
   "cell_type": "code",
   "execution_count": 6,
   "id": "51fa81f5-7296-4999-b00b-75e661ef631b",
   "metadata": {},
   "outputs": [],
   "source": [
    "df = fetch_ticker_data(symbol=\"AAPL\", interval=5, apiKey=ALPHA_VANTAGE_API_KEY)"
   ]
  },
  {
   "cell_type": "code",
   "execution_count": 7,
   "id": "9f6d9409-f758-472b-98e0-ded782a00f27",
   "metadata": {},
   "outputs": [
    {
     "data": {
      "text/html": [
       "<div>\n",
       "<style scoped>\n",
       "    .dataframe tbody tr th:only-of-type {\n",
       "        vertical-align: middle;\n",
       "    }\n",
       "\n",
       "    .dataframe tbody tr th {\n",
       "        vertical-align: top;\n",
       "    }\n",
       "\n",
       "    .dataframe thead th {\n",
       "        text-align: right;\n",
       "    }\n",
       "</style>\n",
       "<table border=\"1\" class=\"dataframe\">\n",
       "  <thead>\n",
       "    <tr style=\"text-align: right;\">\n",
       "      <th></th>\n",
       "      <th>timestamp</th>\n",
       "      <th>open</th>\n",
       "      <th>high</th>\n",
       "      <th>low</th>\n",
       "      <th>close</th>\n",
       "      <th>volume</th>\n",
       "    </tr>\n",
       "  </thead>\n",
       "  <tbody>\n",
       "    <tr>\n",
       "      <th>0</th>\n",
       "      <td>2025-01-23 19:55:00</td>\n",
       "      <td>223.2300</td>\n",
       "      <td>223.2500</td>\n",
       "      <td>223.2000</td>\n",
       "      <td>223.2200</td>\n",
       "      <td>6588</td>\n",
       "    </tr>\n",
       "    <tr>\n",
       "      <th>1</th>\n",
       "      <td>2025-01-23 19:50:00</td>\n",
       "      <td>223.2201</td>\n",
       "      <td>223.3000</td>\n",
       "      <td>223.2000</td>\n",
       "      <td>223.2300</td>\n",
       "      <td>6412</td>\n",
       "    </tr>\n",
       "    <tr>\n",
       "      <th>2</th>\n",
       "      <td>2025-01-23 19:45:00</td>\n",
       "      <td>223.2000</td>\n",
       "      <td>223.2500</td>\n",
       "      <td>223.2000</td>\n",
       "      <td>223.2207</td>\n",
       "      <td>2582</td>\n",
       "    </tr>\n",
       "    <tr>\n",
       "      <th>3</th>\n",
       "      <td>2025-01-23 19:40:00</td>\n",
       "      <td>223.1900</td>\n",
       "      <td>223.2500</td>\n",
       "      <td>223.1500</td>\n",
       "      <td>223.2000</td>\n",
       "      <td>2058</td>\n",
       "    </tr>\n",
       "    <tr>\n",
       "      <th>4</th>\n",
       "      <td>2025-01-23 19:35:00</td>\n",
       "      <td>223.1900</td>\n",
       "      <td>223.2000</td>\n",
       "      <td>223.1500</td>\n",
       "      <td>223.1800</td>\n",
       "      <td>3568</td>\n",
       "    </tr>\n",
       "    <tr>\n",
       "      <th>...</th>\n",
       "      <td>...</td>\n",
       "      <td>...</td>\n",
       "      <td>...</td>\n",
       "      <td>...</td>\n",
       "      <td>...</td>\n",
       "      <td>...</td>\n",
       "    </tr>\n",
       "    <tr>\n",
       "      <th>95</th>\n",
       "      <td>2025-01-23 12:00:00</td>\n",
       "      <td>224.0600</td>\n",
       "      <td>224.1600</td>\n",
       "      <td>223.3857</td>\n",
       "      <td>223.4200</td>\n",
       "      <td>488965</td>\n",
       "    </tr>\n",
       "    <tr>\n",
       "      <th>96</th>\n",
       "      <td>2025-01-23 11:55:00</td>\n",
       "      <td>223.9200</td>\n",
       "      <td>224.1950</td>\n",
       "      <td>223.8500</td>\n",
       "      <td>224.0400</td>\n",
       "      <td>370532</td>\n",
       "    </tr>\n",
       "    <tr>\n",
       "      <th>97</th>\n",
       "      <td>2025-01-23 11:50:00</td>\n",
       "      <td>224.3200</td>\n",
       "      <td>224.3705</td>\n",
       "      <td>223.8000</td>\n",
       "      <td>223.9200</td>\n",
       "      <td>580552</td>\n",
       "    </tr>\n",
       "    <tr>\n",
       "      <th>98</th>\n",
       "      <td>2025-01-23 11:45:00</td>\n",
       "      <td>224.4500</td>\n",
       "      <td>224.5900</td>\n",
       "      <td>224.2500</td>\n",
       "      <td>224.3200</td>\n",
       "      <td>356223</td>\n",
       "    </tr>\n",
       "    <tr>\n",
       "      <th>99</th>\n",
       "      <td>2025-01-23 11:40:00</td>\n",
       "      <td>224.3300</td>\n",
       "      <td>224.5901</td>\n",
       "      <td>224.3100</td>\n",
       "      <td>224.4300</td>\n",
       "      <td>373565</td>\n",
       "    </tr>\n",
       "  </tbody>\n",
       "</table>\n",
       "<p>100 rows × 6 columns</p>\n",
       "</div>"
      ],
      "text/plain": [
       "             timestamp      open      high       low     close  volume\n",
       "0  2025-01-23 19:55:00  223.2300  223.2500  223.2000  223.2200    6588\n",
       "1  2025-01-23 19:50:00  223.2201  223.3000  223.2000  223.2300    6412\n",
       "2  2025-01-23 19:45:00  223.2000  223.2500  223.2000  223.2207    2582\n",
       "3  2025-01-23 19:40:00  223.1900  223.2500  223.1500  223.2000    2058\n",
       "4  2025-01-23 19:35:00  223.1900  223.2000  223.1500  223.1800    3568\n",
       "..                 ...       ...       ...       ...       ...     ...\n",
       "95 2025-01-23 12:00:00  224.0600  224.1600  223.3857  223.4200  488965\n",
       "96 2025-01-23 11:55:00  223.9200  224.1950  223.8500  224.0400  370532\n",
       "97 2025-01-23 11:50:00  224.3200  224.3705  223.8000  223.9200  580552\n",
       "98 2025-01-23 11:45:00  224.4500  224.5900  224.2500  224.3200  356223\n",
       "99 2025-01-23 11:40:00  224.3300  224.5901  224.3100  224.4300  373565\n",
       "\n",
       "[100 rows x 6 columns]"
      ]
     },
     "execution_count": 7,
     "metadata": {},
     "output_type": "execute_result"
    }
   ],
   "source": [
    "df"
   ]
  },
  {
   "cell_type": "markdown",
   "id": "596968a5-6ed6-4de0-8e13-d85dc021281b",
   "metadata": {},
   "source": [
    "### Filter by time"
   ]
  },
  {
   "cell_type": "code",
   "execution_count": 8,
   "id": "94fb69ba-2778-4f6e-9c62-164b2bf519c8",
   "metadata": {},
   "outputs": [],
   "source": [
    "# # est_time = datetime(2024, 1, 23, 14, 5, 0).replace(minute=0, second=0, microsecond=0) + timedelta(hours=3)\n",
    "# est_time = datetime.now().replace(minute=0, second=0, microsecond=0) + timedelta(hours=3)\n",
    "# print(type(est_time))\n",
    "# print(est_time)"
   ]
  },
  {
   "cell_type": "code",
   "execution_count": 9,
   "id": "11f27ca2-190b-4828-ba0f-e954fc01f861",
   "metadata": {},
   "outputs": [],
   "source": [
    "# df[df[\"timestamp\"]==est_time]"
   ]
  },
  {
   "cell_type": "code",
   "execution_count": 10,
   "id": "4d4984ff-84f8-4f2d-9fc3-7200695ce0a4",
   "metadata": {},
   "outputs": [],
   "source": [
    "def filter_stock_data(df: pd.DataFrame) -> pd.DataFrame:\n",
    "    now = datetime.now()\n",
    "    minutes = now.minute\n",
    "    round_down_minutes = minutes // 5 * 5\n",
    "    pst_time = datetime.now().replace(minute=round_down_minutes, second=0, microsecond=0) + timedelta(hours=3) # Rounds down time to the closest 5n minutes\n",
    "    return_df = df[df[\"timestamp\"]==pst_time]\n",
    "    if return_df.empty:\n",
    "        return None\n",
    "    return return_df"
   ]
  },
  {
   "cell_type": "code",
   "execution_count": 11,
   "id": "14b48c9c-1b31-4784-84a7-c0f1e16a693e",
   "metadata": {},
   "outputs": [
    {
     "name": "stdout",
     "output_type": "stream",
     "text": [
      "None\n"
     ]
    }
   ],
   "source": [
    "print(filter_stock_data(df))"
   ]
  }
 ],
 "metadata": {
  "kernelspec": {
   "display_name": "Python 3 (ipykernel)",
   "language": "python",
   "name": "python3"
  },
  "language_info": {
   "codemirror_mode": {
    "name": "ipython",
    "version": 3
   },
   "file_extension": ".py",
   "mimetype": "text/x-python",
   "name": "python",
   "nbconvert_exporter": "python",
   "pygments_lexer": "ipython3",
   "version": "3.13.1"
  }
 },
 "nbformat": 4,
 "nbformat_minor": 5
}
