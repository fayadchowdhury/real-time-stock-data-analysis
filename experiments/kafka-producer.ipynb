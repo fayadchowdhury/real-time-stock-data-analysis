{
 "cells": [
  {
   "cell_type": "markdown",
   "id": "c8bb9419-bc62-49b9-aa2b-3c48cc11b124",
   "metadata": {},
   "source": [
    "# Notebook demonstrating how to start a Kafka producer using the kafka-python-ng package"
   ]
  },
  {
   "cell_type": "markdown",
   "id": "eee667cb-edb4-4b6f-ba3b-9d77f5f67fec",
   "metadata": {},
   "source": [
    "### Necessary imports"
   ]
  },
  {
   "cell_type": "code",
   "execution_count": 1,
   "id": "429e3026-32a5-4538-b08e-c79cd67602d9",
   "metadata": {},
   "outputs": [],
   "source": [
    "import pandas as pd\n",
    "from kafka import KafkaProducer\n",
    "from time import sleep\n",
    "import json"
   ]
  },
  {
   "cell_type": "markdown",
   "id": "55d0b753-56c5-4613-9f2d-54366006a2f1",
   "metadata": {},
   "source": [
    "### Write basic producer"
   ]
  },
  {
   "cell_type": "code",
   "execution_count": 2,
   "id": "e1765ebb-1988-48b9-b1a7-6d6375a30fcc",
   "metadata": {},
   "outputs": [],
   "source": [
    "KAFKA_PRODUCER_IP = \"18.206.253.178\"\n",
    "KAFKA_PRODUCER_PORT = \"9092\"\n",
    "KAFKA_PRODUCER_TOPIC = \"topic\""
   ]
  },
  {
   "cell_type": "code",
   "execution_count": 3,
   "id": "5ae3e978-c3b0-4e2b-bfab-00d774711c41",
   "metadata": {},
   "outputs": [],
   "source": [
    "producer = KafkaProducer(\n",
    "    bootstrap_servers=[\n",
    "        f\"{KAFKA_PRODUCER_IP}:{KAFKA_PRODUCER_PORT}\", # EC2 instance public IP address and port 9092\n",
    "    ],\n",
    "    value_serializer=lambda x: json.dumps(x).encode('utf-8'),\n",
    ")"
   ]
  },
  {
   "cell_type": "code",
   "execution_count": 4,
   "id": "17d59665-d682-4128-9217-d1b9934515ad",
   "metadata": {},
   "outputs": [],
   "source": [
    "producer.flush()"
   ]
  },
  {
   "cell_type": "markdown",
   "id": "af8c32a9-b1e3-4412-9104-93cccb4d10fc",
   "metadata": {},
   "source": [
    "### Transmit basic message"
   ]
  },
  {
   "cell_type": "code",
   "execution_count": 5,
   "id": "6395fc8c-8c8f-403d-aba6-df8cdbb439e6",
   "metadata": {},
   "outputs": [],
   "source": [
    "# Works\n",
    "# producer.send(KAFKA_PRODUCER_TOPIC, value=\"{'key': 'value'}\")"
   ]
  },
  {
   "cell_type": "markdown",
   "id": "bf7c3eb6-1347-474a-8b24-8ccb79a3e83c",
   "metadata": {},
   "source": [
    "### Transmitting random rows from sample data with a 10s delay"
   ]
  },
  {
   "cell_type": "code",
   "execution_count": 6,
   "id": "05d57af6-9103-42bb-b9d1-c1589821ed2d",
   "metadata": {},
   "outputs": [],
   "source": [
    "data = pd.read_csv(\"../data/indexProcessed.csv\")"
   ]
  },
  {
   "cell_type": "code",
   "execution_count": 7,
   "id": "b881456b-e096-4b88-956b-859f49adb58d",
   "metadata": {},
   "outputs": [
    {
     "ename": "KeyboardInterrupt",
     "evalue": "",
     "output_type": "error",
     "traceback": [
      "\u001b[0;31m---------------------------------------------------------------------------\u001b[0m",
      "\u001b[0;31mKeyboardInterrupt\u001b[0m                         Traceback (most recent call last)",
      "Cell \u001b[0;32mIn[7], line 5\u001b[0m\n\u001b[1;32m      3\u001b[0m transmit \u001b[38;5;241m=\u001b[39m data\u001b[38;5;241m.\u001b[39msample(\u001b[38;5;241m1\u001b[39m)\u001b[38;5;241m.\u001b[39mto_dict(orient\u001b[38;5;241m=\u001b[39m\u001b[38;5;124m\"\u001b[39m\u001b[38;5;124mrecords\u001b[39m\u001b[38;5;124m\"\u001b[39m)[\u001b[38;5;241m0\u001b[39m]\n\u001b[1;32m      4\u001b[0m producer\u001b[38;5;241m.\u001b[39msend(KAFKA_PRODUCER_TOPIC, value\u001b[38;5;241m=\u001b[39mtransmit)\n\u001b[0;32m----> 5\u001b[0m \u001b[43msleep\u001b[49m\u001b[43m(\u001b[49m\u001b[38;5;241;43m5\u001b[39;49m\u001b[43m)\u001b[49m\n",
      "\u001b[0;31mKeyboardInterrupt\u001b[0m: "
     ]
    }
   ],
   "source": [
    "# The following loop transmits a random sample from the data at an interval of 5 seconds\n",
    "while True:\n",
    "    transmit = data.sample(1).to_dict(orient=\"records\")[0]\n",
    "    producer.send(KAFKA_PRODUCER_TOPIC, value=transmit)\n",
    "    sleep(5)"
   ]
  }
 ],
 "metadata": {
  "kernelspec": {
   "display_name": "Python 3 (ipykernel)",
   "language": "python",
   "name": "python3"
  },
  "language_info": {
   "codemirror_mode": {
    "name": "ipython",
    "version": 3
   },
   "file_extension": ".py",
   "mimetype": "text/x-python",
   "name": "python",
   "nbconvert_exporter": "python",
   "pygments_lexer": "ipython3",
   "version": "3.13.1"
  }
 },
 "nbformat": 4,
 "nbformat_minor": 5
}
